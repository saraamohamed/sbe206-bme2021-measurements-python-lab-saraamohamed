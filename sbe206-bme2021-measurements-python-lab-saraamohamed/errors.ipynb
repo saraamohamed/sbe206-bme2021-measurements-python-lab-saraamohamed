{
 "cells": [
  {
   "cell_type": "markdown",
   "metadata": {
    "colab_type": "text",
    "id": "drFmmUeATj0f"
   },
   "source": [
    "# Task 2\n",
    "\n",
    "A load cell is a sensor used to measure weight. A calibration record table is given below. Determine the maximum error (as a percentage of the full-scale output $y_{\\text{FSO}}$ ) for:\n",
    "\n",
    "1. accuracy $\\varepsilon_a = \\frac{y_{\\text{measured}} - y_{\\text{true}}}{y_{\\text{FSO}}} \\times 100\\%$\n",
    "1. hysteresis $\\varepsilon_h = \\frac{y_{\\text{decreasing}} - y_{\\text{increasing}}}{y_{\\text{FSO}}} \\times 100\\%$ \n",
    "1. linearity $\\varepsilon_l = \\frac{y_{\\text{measured}} - y_{\\text{L}}}{y_{\\text{FSO}}} \\times 100\\%$\n",
    "\n",
    "The equation of the best-fit line is $y_L(x) = a_0 + a_1x$, where $a_1=\\frac{n\\Sigma xy - \\Sigma x \\Sigma y}{n\\Sigma x^2 - ({\\Sigma x})^2}$, $a_0 = \\frac{1}{n}( \\Sigma y - a_1 \\Sigma x )$, $n$ is the number of data points. Assume that the true or expected output has a linear relationship with the input. In addition, the expected outputs are 0 mV at 0 kg load and 20 mV at 50 kg load.\n",
    "\n",
    "![alt text](https://raw.githubusercontent.com/sbme-tutorials/measurements-sheets/master/mt-model/images/q2.png)"
   ]
  },
  {
   "cell_type": "markdown",
   "metadata": {
    "colab_type": "text",
    "id": "z97jmDWsXCYq"
   },
   "source": [
    "## Solution\n",
    "\n",
    "### A) Loading data\n",
    "\n",
    "Construct 3 *Numpy* arrays to contain the data in the table.\n",
    "\n",
    "(Read documentation here [numpy.array](https://docs.scipy.org/doc/numpy-1.15.0/reference/generated/numpy.array.html#numpy.array) to see examples on constructing *Numpy* arrays.)\n"
   ]
  },
  {
   "cell_type": "markdown",
   "metadata": {
    "colab_type": "text",
    "id": "olnVKg6lXBnx"
   },
   "source": []
  },
  {
   "cell_type": "code",
   "execution_count": 58,
   "metadata": {
    "colab": {},
    "colab_type": "code",
    "id": "lGQNdXq9XUr1"
   },
   "outputs": [],
   "source": [
    "# Add line for importing the Numpy library\n",
    "import numpy as np\n",
    "# Construct an array called `increasing` to contain the second column.\n",
    "increasing = np.array([.08,.45,1.02,1.71,2.55,3.43,4.48,5.50,6.53,7.64,8.70,9.85,11.01,12.40,13.32,14.35,15.40,16.48,17.66,18.90,19.93])\n",
    "# Construct an array called `decreasing` to contain the third column.\n",
    "decreasing = np.array([.06,.88,2.04,3.10,4.18,5.13,6.04,7.02,8.06,9.35,10.52,11.80,12.94,13.86,14.82,15.71,16.84,17.92,18.70,19.51,20.02])\n",
    "# Construct an array called `load` to contain the first column.\n",
    "# Hint: use `np.arange` function (https://docs.scipy.org/doc/numpy-1.15.0/reference/generated/numpy.arange.html#numpy.arange)\n",
    "load=np.arange(0,105,5)\n",
    "\n",
    "\n"
   ]
  },
  {
   "cell_type": "markdown",
   "metadata": {
    "colab_type": "text",
    "id": "FTvM5uTbZXFh"
   },
   "source": [
    "## B) Compute the $a_0$ and $a_1$ parameters\n",
    "\n",
    "You need first to compute the following parameters:\n",
    "\n",
    "1. $\\Sigma x$ use [np.sum](https://docs.scipy.org/doc/numpy-1.15.0/reference/generated/numpy.sum.html).\n",
    "1. $\\Sigma y$; use [np.sum](https://docs.scipy.org/doc/numpy-1.15.0/reference/generated/numpy.sum.html).\n",
    "1.  $\\Sigma x^2$; use [np.dot](https://docs.scipy.org/doc/numpy-1.15.0/reference/generated/numpy.dot.html).\n",
    "1. $\\Sigma y^2$; use [np.dot](https://docs.scipy.org/doc/numpy-1.15.0/reference/generated/numpy.dot.html).\n",
    "1. $\\Sigma xy$; use [np.dot](https://docs.scipy.org/doc/numpy-1.15.0/reference/generated/numpy.dot.html).\n",
    "\n",
    "Note that $x$ and $y$ are considered for both increasing and decreasing together, so we need to concatenate them in someway.\n",
    "\n",
    "Read documentation of [np.hstack](https://docs.scipy.org/doc/numpy-1.15.0/reference/generated/numpy.hstack.html) function to learn about concatenating arrays."
   ]
  },
  {
   "cell_type": "code",
   "execution_count": 59,
   "metadata": {
    "colab": {},
    "colab_type": "code",
    "id": "5wl_vCw-bCyp"
   },
   "outputs": [
    {
     "name": "stdout",
     "output_type": "stream",
     "text": [
      "sX= 2100\n",
      "sY= 409.89\n",
      "sXY= 28499.45\n",
      "sXX= 143500\n",
      "a1= 0.2079207792207793\n",
      "a0= -0.636753246753251\n",
      "error_accuracy= 7.849999999999999\n",
      "error_hysteresis= 9.750000000000005\n",
      "error_linearity= 5.750389610389601\n"
     ]
    }
   ],
   "source": [
    "# Use np.hstack to concatenate two copies of `load` array into `x`\n",
    "x = np.hstack((load,load))\n",
    "\n",
    "# Use np.hstack to concatenate `increasing` and `decreasing` into `y`\n",
    "y = np.hstack((increasing,decreasing))\n",
    "\n",
    "# Compute the summation of x values (in a single line)\n",
    "sX=np.sum([x])\n",
    "print(\"sX=\",sX)\n",
    "\n",
    "# Compute the summation of y values (in a single )\n",
    "sY=np.sum([y])\n",
    "print(\"sY=\",sY)\n",
    "# Compute the dot product of `x` and `y` (in a single line)\n",
    "sXY=np.dot(x,y)\n",
    "print(\"sXY=\",sXY)\n",
    "# Compute the dot produce of `x` and `x` (in a single line)\n",
    "sX2=np.dot(x,x)\n",
    "print(\"sXX=\",sX2)\n",
    "# Get the count of points in a variable `n` (done)\n",
    "n = x.shape[0]\n",
    "\n",
    "# Compute `a1` parameter\n",
    "a1 =((n*sXY)-(sX*sY))/((n*sX2-(sX)**2))\n",
    "\n",
    "print(\"a1=\",a1)\n",
    "# Compute `a0` parameter\n",
    "a0 =(1/n)*(sY-(a1*sX))\n",
    "print(\"a0=\",a0)\n",
    "# Compute the `yFitted` (done)\n",
    "yFitted = a0 + a1 * x\n",
    "\n",
    "# Compute the expected (ideal) `yTrue` (done)\n",
    "yTrue = 0.2 * x\n",
    "\n",
    "# Full scale output `yFSO`\n",
    "yFSO = 20\n",
    "\n",
    "# Compute the accuracy error (in a single line).\n",
    "# Hint: use np.abs to get the absolute differences.\n",
    "# Hint: use np.max to get the maximum difference.\n",
    "error_accuracy=np.max(np.abs(((y-yTrue)/yFSO)*100))\n",
    "print(\"error_accuracy=\",error_accuracy)\n",
    "# Compute the hysteresis error (in a single line).\n",
    "# Hint: use np.abs to get the absolute differences.\n",
    "# Hint: use np.max to get the maximum difference.\n",
    "error_hysteresis=np.max(np.abs(np.subtract(decreasing,increasing)/yFSO)*100)\n",
    "print(\"error_hysteresis=\",error_hysteresis)\n",
    "# Compute the linearity error (in a single line).\n",
    "# Hint: use np.abs to get the absolute differences.\n",
    "# Hint: use np.max to get the maximum difference.\n",
    "error_linearity = np.max(np.abs(((y-yFitted)/yFSO)*100))\n",
    "print(\"error_linearity=\",error_linearity)"
   ]
  },
  {
   "cell_type": "code",
   "execution_count": null,
   "metadata": {},
   "outputs": [],
   "source": []
  },
  {
   "cell_type": "code",
   "execution_count": null,
   "metadata": {},
   "outputs": [],
   "source": []
  }
 ],
 "metadata": {
  "colab": {
   "collapsed_sections": [],
   "name": "errors.ipynb",
   "provenance": [],
   "version": "0.3.2"
  },
  "kernelspec": {
   "display_name": "Python 3",
   "language": "python",
   "name": "python3"
  },
  "language_info": {
   "codemirror_mode": {
    "name": "ipython",
    "version": 3
   },
   "file_extension": ".py",
   "mimetype": "text/x-python",
   "name": "python",
   "nbconvert_exporter": "python",
   "pygments_lexer": "ipython3",
   "version": "3.7.1"
  }
 },
 "nbformat": 4,
 "nbformat_minor": 1
}
